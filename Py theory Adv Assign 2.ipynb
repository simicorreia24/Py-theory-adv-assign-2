{
 "cells": [
  {
   "cell_type": "markdown",
   "id": "98b8c23a",
   "metadata": {},
   "source": [
    "## Q1. What is the relationship between classes and modules?"
   ]
  },
  {
   "cell_type": "code",
   "execution_count": 2,
   "id": "aad9d2fb",
   "metadata": {},
   "outputs": [],
   "source": [
    "# Modules are files present inside a package, whereas a class is used to encapsulate data and functions \n",
    "# together inside the same unit."
   ]
  },
  {
   "cell_type": "markdown",
   "id": "550756d4",
   "metadata": {},
   "source": [
    "## Q2. How do you make instances and classes?"
   ]
  },
  {
   "cell_type": "code",
   "execution_count": 3,
   "id": "080c7fc6",
   "metadata": {},
   "outputs": [],
   "source": [
    "# The new operator requires a single, postfix argument: a call to a constructor. \n",
    "# The name of the constructor provides the name of the class to instantiate. \n",
    "# The new operator returns a reference to the object it created."
   ]
  },
  {
   "cell_type": "markdown",
   "id": "c8452f05",
   "metadata": {},
   "source": [
    "## Q3. Where and how should be class attributes created?"
   ]
  },
  {
   "cell_type": "code",
   "execution_count": 4,
   "id": "5a7a0ace",
   "metadata": {},
   "outputs": [],
   "source": [
    "# Class attributes belong to the class itself they will be shared by all the instances. \n",
    "# Such attributes are defined in the class body parts usually at the top, for legibility."
   ]
  },
  {
   "cell_type": "markdown",
   "id": "2fd222d4",
   "metadata": {},
   "source": [
    "## Q4. Where and how are instance attributes created?"
   ]
  },
  {
   "cell_type": "code",
   "execution_count": 5,
   "id": "ff1af511",
   "metadata": {},
   "outputs": [],
   "source": [
    "# Instance attributes are defined in the constructor. \n",
    "# Defined directly inside a class. Defined inside a constructor using the self parameter"
   ]
  },
  {
   "cell_type": "markdown",
   "id": "b255a6b6",
   "metadata": {},
   "source": [
    "## Q5. What does the term &quot;self&quot; in a Python class mean?"
   ]
  },
  {
   "cell_type": "code",
   "execution_count": 6,
   "id": "a21adf76",
   "metadata": {},
   "outputs": [],
   "source": [
    "# self represents the instance of the class. By using the “self” keyword we can access the attributes and methods of the class in python.\n",
    "# It binds the attributes with the given arguments"
   ]
  },
  {
   "cell_type": "markdown",
   "id": "4917e86b",
   "metadata": {},
   "source": [
    "## Q6. How does a Python class handle operator overloading?"
   ]
  },
  {
   "cell_type": "code",
   "execution_count": 7,
   "id": "b666d3cf",
   "metadata": {},
   "outputs": [],
   "source": [
    "# To perform operator overloading, Python provides some special function or magic function that is \n",
    "# automatically invoked when it is associated with that particular operator. \n",
    "# For example, when we use + operator, the magic method __add__ is automatically invoked in which the operation \n",
    "# for + operator is defined."
   ]
  },
  {
   "cell_type": "markdown",
   "id": "8d4ef023",
   "metadata": {},
   "source": [
    "## Q7. When do you consider allowing operator overloading of your classes?"
   ]
  },
  {
   "cell_type": "code",
   "execution_count": 8,
   "id": "8271400a",
   "metadata": {},
   "outputs": [],
   "source": [
    "# It allows you to provide an intuitive interface to users of your class, plus makes it possible for templates \n",
    "# to work equally well with classes and built-in/intrinsic types.\n",
    "# Operator overloading allows C/C++ operators to have user-defined meanings on user-defined types (classes)."
   ]
  },
  {
   "cell_type": "markdown",
   "id": "3d573b18",
   "metadata": {},
   "source": [
    "## Q8. What is the most popular form of operator overloading?"
   ]
  },
  {
   "cell_type": "code",
   "execution_count": 9,
   "id": "41d5ea27",
   "metadata": {},
   "outputs": [],
   "source": [
    "# A very popular and convenient example is the Addition (+) operator.\n",
    "# Just think how the '+' operator operates on two numbers and the same operator operates on two strings. \n",
    "# It performs “Addition” on numbers whereas it performs “Concatenation” on strings."
   ]
  },
  {
   "cell_type": "markdown",
   "id": "32e75e94",
   "metadata": {},
   "source": [
    "## Q9. What are the two most important concepts to grasp in order to comprehend Python OOP code?"
   ]
  },
  {
   "cell_type": "code",
   "execution_count": 10,
   "id": "99fab14a",
   "metadata": {},
   "outputs": [],
   "source": [
    "# In order to develop robust and well-designed software products with Python, it is essential to obtain a comprehensive understanding of OOP. \n",
    "# In this article, we will elaborate on two key concepts of OOP which are inheritance and polymorphism."
   ]
  }
 ],
 "metadata": {
  "kernelspec": {
   "display_name": "Python 3 (ipykernel)",
   "language": "python",
   "name": "python3"
  },
  "language_info": {
   "codemirror_mode": {
    "name": "ipython",
    "version": 3
   },
   "file_extension": ".py",
   "mimetype": "text/x-python",
   "name": "python",
   "nbconvert_exporter": "python",
   "pygments_lexer": "ipython3",
   "version": "3.9.7"
  }
 },
 "nbformat": 4,
 "nbformat_minor": 5
}
